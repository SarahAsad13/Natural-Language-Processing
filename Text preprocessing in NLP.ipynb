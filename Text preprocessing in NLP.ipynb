{
 "cells": [
  {
   "cell_type": "code",
   "execution_count": 1,
   "id": "86d9231a-63a3-46e4-a87f-23380564fa67",
   "metadata": {
    "tags": []
   },
   "outputs": [],
   "source": [
    "#Text preprocessing in NLP"
   ]
  },
  {
   "cell_type": "code",
   "execution_count": 1,
   "id": "3c7ff5ec-8ba3-4192-8296-8ae801f8819b",
   "metadata": {
    "tags": []
   },
   "outputs": [],
   "source": [
    "import nltk"
   ]
  },
  {
   "cell_type": "code",
   "execution_count": 76,
   "id": "f15671b6-c440-4d47-9d94-184335d95527",
   "metadata": {
    "tags": []
   },
   "outputs": [
    {
     "name": "stdout",
     "output_type": "stream",
     "text": [
      "['Hi', 'I', 'am', 'getting', 'better', 'at', 'NLP']\n"
     ]
    }
   ],
   "source": [
    "#Step 1: Tokenization = Splitting the text/sentence into individual words or tokens.\n",
    "from nltk.tokenize import word_tokenize\n",
    "\n",
    "sentence = \"Hi I am getting better at NLP\"\n",
    "\n",
    "words = word_tokenize(sentence)\n",
    "print(words)"
   ]
  },
  {
   "cell_type": "code",
   "execution_count": 77,
   "id": "1b9b6885-ffc7-444a-89a3-6adeb7cf7eff",
   "metadata": {
    "tags": []
   },
   "outputs": [
    {
     "name": "stdout",
     "output_type": "stream",
     "text": [
      "hi i am getting better at nlp\n"
     ]
    }
   ],
   "source": [
    "#Step 2: Lower Casing = Converting all text to lowercase to ensure uniformity.\n",
    "sentence = sentence.lower()\n",
    "print(sentence)"
   ]
  },
  {
   "cell_type": "code",
   "execution_count": 78,
   "id": "03ce96e2-1c4f-4b25-b3bb-6bf7d0e57ae7",
   "metadata": {
    "tags": []
   },
   "outputs": [
    {
     "name": "stdout",
     "output_type": "stream",
     "text": [
      "Hi I am getting betters  at NLP\n"
     ]
    }
   ],
   "source": [
    "#Step 3: Remove punctuation \n",
    "import string\n",
    "sentence = \"Hi I am ,,getting better's  at NLP.\"\n",
    "remove_punc = sentence.translate(str.maketrans('', '', string.punctuation))\n",
    "print(remove_punc)"
   ]
  },
  {
   "cell_type": "code",
   "execution_count": 83,
   "id": "2ec16a3a-19bc-4b80-ad3a-13a01b9ed2d1",
   "metadata": {
    "tags": []
   },
   "outputs": [
    {
     "name": "stdout",
     "output_type": "stream",
     "text": [
      "['Hi', 'I', 'getting', 'better', 'NLP']\n"
     ]
    }
   ],
   "source": [
    "#Step 4: Stop words removal\n",
    "from nltk.corpus import stopwords \n",
    "stop_words = set(stopwords.words('English'))\n",
    "\n",
    "filtered_sentence = [w for w in words if w not in stop_words]\n",
    "print(filtered_sentence)"
   ]
  },
  {
   "cell_type": "code",
   "execution_count": 80,
   "id": "dec2af97-4db5-44d2-84ac-ef7eb9bed962",
   "metadata": {
    "tags": []
   },
   "outputs": [
    {
     "name": "stdout",
     "output_type": "stream",
     "text": [
      "Stemmed Words: ['hi', 'i', 'am', 'get', 'better', 'at', 'nlp']\n"
     ]
    }
   ],
   "source": [
    "#Step 5: Stemming = Reducing words to their root form (e.g., 'running' to 'run').\n",
    "\n",
    "from nltk.stem import PorterStemmer\n",
    "porter = PorterStemmer()\n",
    "\n",
    "stemmed_words = [porter.stem(word) for word in words]\n",
    "print(\"Stemmed Words:\", stemmed_words)"
   ]
  },
  {
   "cell_type": "code",
   "execution_count": 81,
   "id": "c19be6c0-43c1-4b8a-91a6-b3cc5e15aff7",
   "metadata": {
    "tags": []
   },
   "outputs": [
    {
     "name": "stdout",
     "output_type": "stream",
     "text": [
      "['Hi', 'I', 'am', 'getting', 'better', 'at', 'NLP']\n"
     ]
    }
   ],
   "source": [
    "#Step 6: Lemmatization = Similar to stemming but considers the context of the word to determine its root form (e.g., 'ran' to 'run')\n",
    "from nltk.stem import WordNetLemmatizer\n",
    "lemmatizer = WordNetLemmatizer()\n",
    "\n",
    "lemmed_words = [lemmatizer.lemmatize(word) for word in words]\n",
    "print(lemmed_words)               "
   ]
  },
  {
   "cell_type": "code",
   "execution_count": 82,
   "id": "7f3cc09c-f17b-40c9-ba61-22d30fbd2c64",
   "metadata": {
    "tags": []
   },
   "outputs": [],
   "source": [
    "#text = \"hi, hello. bye \"\n",
    "#rem_punc = text.translate(str.maketrans('', '', string.punctuation))\n",
    "#print(rem_punc)"
   ]
  }
 ],
 "metadata": {
  "kernelspec": {
   "display_name": "Python 3 (ipykernel)",
   "language": "python",
   "name": "python3"
  },
  "language_info": {
   "codemirror_mode": {
    "name": "ipython",
    "version": 3
   },
   "file_extension": ".py",
   "mimetype": "text/x-python",
   "name": "python",
   "nbconvert_exporter": "python",
   "pygments_lexer": "ipython3",
   "version": "3.11.5"
  }
 },
 "nbformat": 4,
 "nbformat_minor": 5
}
